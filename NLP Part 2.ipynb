{
 "cells": [
  {
   "cell_type": "markdown",
   "metadata": {},
   "source": [
    "# NLP: Text Pre-Processing"
   ]
  },
  {
   "cell_type": "code",
   "execution_count": 1,
   "metadata": {},
   "outputs": [],
   "source": [
    "# Anonymous linkedin Text. Let's call this Person Jo/\n",
    "\n",
    "Jo = \"\"\"\n",
    "\n",
    "I have a combination of technical and management experience focused on machine learning and AI. I was awarded multiple times during my graduate MMAI studies. I come from a biophysics background with a strong foundation in mathematics, statistics, and probability with extensive expertise in quantitative data analysis and statistical modeling and hands-on experience. Most recently, I was responsible for building end-to-end machine learning pipeline models for the telecommunication sector, reaching millions and millions of people across north america and generate great lifts for business. I enjoy breaking down complex problems and delivering innovative models and solutions. Passionate about the intersection of math, game theory, technology, and business. Values working in diverse groups, successful collaborator with excellent social skills. Communicates technical concepts to technical and non-technical colleagues\n",
    "\n",
    "\"\"\""
   ]
  },
  {
   "cell_type": "code",
   "execution_count": 2,
   "metadata": {},
   "outputs": [],
   "source": [
    "# Tolkeniztion \n",
    "\n",
    "from nltk.tokenize import word_tokenize"
   ]
  },
  {
   "cell_type": "code",
   "execution_count": 3,
   "metadata": {},
   "outputs": [
    {
     "data": {
      "text/plain": [
       "['I',\n",
       " 'have',\n",
       " 'a',\n",
       " 'combination',\n",
       " 'of',\n",
       " 'technical',\n",
       " 'and',\n",
       " 'management',\n",
       " 'experience',\n",
       " 'focused',\n",
       " 'on',\n",
       " 'machine',\n",
       " 'learning',\n",
       " 'and',\n",
       " 'AI',\n",
       " '.',\n",
       " 'I',\n",
       " 'was',\n",
       " 'awarded',\n",
       " 'multiple',\n",
       " 'times',\n",
       " 'during',\n",
       " 'my',\n",
       " 'graduate',\n",
       " 'MMAI',\n",
       " 'studies',\n",
       " '.',\n",
       " 'I',\n",
       " 'come',\n",
       " 'from',\n",
       " 'a',\n",
       " 'biophysics',\n",
       " 'background',\n",
       " 'with',\n",
       " 'a',\n",
       " 'strong',\n",
       " 'foundation',\n",
       " 'in',\n",
       " 'mathematics',\n",
       " ',',\n",
       " 'statistics',\n",
       " ',',\n",
       " 'and',\n",
       " 'probability',\n",
       " 'with',\n",
       " 'extensive',\n",
       " 'expertise',\n",
       " 'in',\n",
       " 'quantitative',\n",
       " 'data',\n",
       " 'analysis',\n",
       " 'and',\n",
       " 'statistical',\n",
       " 'modeling',\n",
       " 'and',\n",
       " 'hands-on',\n",
       " 'experience',\n",
       " '.',\n",
       " 'Most',\n",
       " 'recently',\n",
       " ',',\n",
       " 'I',\n",
       " 'was',\n",
       " 'responsible',\n",
       " 'for',\n",
       " 'building',\n",
       " 'end-to-end',\n",
       " 'machine',\n",
       " 'learning',\n",
       " 'pipeline',\n",
       " 'models',\n",
       " 'for',\n",
       " 'the',\n",
       " 'telecommunication',\n",
       " 'sector',\n",
       " ',',\n",
       " 'reaching',\n",
       " 'millions',\n",
       " 'and',\n",
       " 'millions',\n",
       " 'of',\n",
       " 'people',\n",
       " 'across',\n",
       " 'north',\n",
       " 'america',\n",
       " 'and',\n",
       " 'generate',\n",
       " 'great',\n",
       " 'lifts',\n",
       " 'for',\n",
       " 'business',\n",
       " '.',\n",
       " 'I',\n",
       " 'enjoy',\n",
       " 'breaking',\n",
       " 'down',\n",
       " 'complex',\n",
       " 'problems',\n",
       " 'and',\n",
       " 'delivering',\n",
       " 'innovative',\n",
       " 'models',\n",
       " 'and',\n",
       " 'solutions',\n",
       " '.',\n",
       " 'Passionate',\n",
       " 'about',\n",
       " 'the',\n",
       " 'intersection',\n",
       " 'of',\n",
       " 'math',\n",
       " ',',\n",
       " 'game',\n",
       " 'theory',\n",
       " ',',\n",
       " 'technology',\n",
       " ',',\n",
       " 'and',\n",
       " 'business',\n",
       " '.',\n",
       " 'Values',\n",
       " 'working',\n",
       " 'in',\n",
       " 'diverse',\n",
       " 'groups',\n",
       " ',',\n",
       " 'successful',\n",
       " 'collaborator',\n",
       " 'with',\n",
       " 'excellent',\n",
       " 'social',\n",
       " 'skills',\n",
       " '.',\n",
       " 'Communicates',\n",
       " 'technical',\n",
       " 'concepts',\n",
       " 'to',\n",
       " 'technical',\n",
       " 'and',\n",
       " 'non-technical',\n",
       " 'colleagues']"
      ]
     },
     "execution_count": 3,
     "metadata": {},
     "output_type": "execute_result"
    }
   ],
   "source": [
    "# Now tokenize the above text. \n",
    "\n",
    "Jo_token = word_tokenize(Jo)\n",
    "Jo_token"
   ]
  },
  {
   "cell_type": "code",
   "execution_count": 4,
   "metadata": {},
   "outputs": [
    {
     "data": {
      "text/plain": [
       "141"
      ]
     },
     "execution_count": 4,
     "metadata": {},
     "output_type": "execute_result"
    }
   ],
   "source": [
    "# Checking out the number of tokens in the text. \n",
    "\n",
    "len(Jo_token)"
   ]
  },
  {
   "cell_type": "code",
   "execution_count": 5,
   "metadata": {},
   "outputs": [],
   "source": [
    "# Checking out the token freq\n",
    "\n",
    "from nltk.probability import FreqDist\n",
    "\n",
    "# Intialize \n",
    "\n",
    "fdist = FreqDist()"
   ]
  },
  {
   "cell_type": "code",
   "execution_count": 7,
   "metadata": {},
   "outputs": [
    {
     "data": {
      "text/plain": [
       "FreqDist({'and': 11, ',': 8, '.': 7, 'i': 5, 'a': 3, 'of': 3, 'technical': 3, 'with': 3, 'in': 3, 'for': 3, ...})"
      ]
     },
     "execution_count": 7,
     "metadata": {},
     "output_type": "execute_result"
    }
   ],
   "source": [
    "# Assign tokens to numbers. \n",
    "\n",
    "for token in Jo_token:\n",
    "    fdist[(token.lower())] +=1\n",
    "\n",
    "# Print out the result\n",
    "\n",
    "fdist"
   ]
  },
  {
   "cell_type": "code",
   "execution_count": 10,
   "metadata": {},
   "outputs": [
    {
     "data": {
      "text/plain": [
       "1"
      ]
     },
     "execution_count": 10,
     "metadata": {},
     "output_type": "execute_result"
    }
   ],
   "source": [
    "# How many times a certian token was used. \n",
    "\n",
    "fdist['ai']"
   ]
  },
  {
   "cell_type": "code",
   "execution_count": 11,
   "metadata": {},
   "outputs": [
    {
     "data": {
      "text/plain": [
       "[('and', 11),\n",
       " (',', 8),\n",
       " ('.', 7),\n",
       " ('i', 5),\n",
       " ('a', 3),\n",
       " ('of', 3),\n",
       " ('technical', 3),\n",
       " ('with', 3),\n",
       " ('in', 3),\n",
       " ('for', 3),\n",
       " ('experience', 2),\n",
       " ('machine', 2),\n",
       " ('learning', 2),\n",
       " ('was', 2),\n",
       " ('models', 2)]"
      ]
     },
     "execution_count": 11,
     "metadata": {},
     "output_type": "execute_result"
    }
   ],
   "source": [
    "# LEt us look at some common tokens Jo likes to use. \n",
    "\n",
    "fdist_top15 = fdist.most_common(15)\n",
    "fdist_top15"
   ]
  }
 ],
 "metadata": {
  "kernelspec": {
   "display_name": "Python 3",
   "language": "python",
   "name": "python3"
  },
  "language_info": {
   "codemirror_mode": {
    "name": "ipython",
    "version": 3
   },
   "file_extension": ".py",
   "mimetype": "text/x-python",
   "name": "python",
   "nbconvert_exporter": "python",
   "pygments_lexer": "ipython3",
   "version": "3.7.6"
  }
 },
 "nbformat": 4,
 "nbformat_minor": 4
}
